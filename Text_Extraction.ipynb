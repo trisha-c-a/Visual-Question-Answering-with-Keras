{
  "nbformat": 4,
  "nbformat_minor": 0,
  "metadata": {
    "colab": {
      "name": "Text_Extraction.ipynb",
      "provenance": [],
      "collapsed_sections": []
    },
    "kernelspec": {
      "name": "python3",
      "display_name": "Python 3"
    },
    "language_info": {
      "name": "python"
    }
  },
  "cells": [
    {
      "cell_type": "code",
      "metadata": {
        "colab": {
          "base_uri": "https://localhost:8080/"
        },
        "id": "9xY1LYaRLyKB",
        "outputId": "3f4fc121-be8e-48b3-b492-20e76252e4cc"
      },
      "source": [
        "from google.colab import drive\n",
        "drive.mount('/content/drive')"
      ],
      "execution_count": null,
      "outputs": [
        {
          "output_type": "stream",
          "text": [
            "Mounted at /content/drive\n"
          ],
          "name": "stdout"
        }
      ]
    },
    {
      "cell_type": "code",
      "metadata": {
        "id": "Rc-yAjlSKN08"
      },
      "source": [
        "import json\n",
        "from pathlib import Path\n",
        "import regex as re"
      ],
      "execution_count": null,
      "outputs": []
    },
    {
      "cell_type": "markdown",
      "metadata": {
        "id": "nsPjFZjaKror"
      },
      "source": [
        "# Functions to Create Files that Contain ques_id, images_id, ques, answer, ques_len"
      ]
    },
    {
      "cell_type": "code",
      "metadata": {
        "id": "DwkpjDxPT2qf"
      },
      "source": [
        "def ques_id_txt(ques_open, path):\n",
        "  for i in ques_open:\n",
        "    if Path(path + \"ques_id\" + \".txt\").is_file():\n",
        "      f = open(Path(path + \"ques_id\" + \".txt\"),\"a\")\n",
        "      f.write(\"\\n\")\n",
        "      f.write(str(i))\n",
        "      f.close() \n",
        "      continue\n",
        "    else:\n",
        "      f = open(Path(path + \"ques_id\" + \".txt\"),\"w+\")\n",
        "      f.write(str(i))\n",
        "      f.close() \n",
        "      continue\n",
        "  \n",
        "def images_id_txt(ques_open, path):\n",
        "  for i in ques_open:\n",
        "    if Path(path + \"images_id\" + \".txt\").is_file():\n",
        "      f = open(Path(path + \"images_id\" + \".txt\"),\"a\")\n",
        "      f.write(\"\\n\")\n",
        "      f.write(Path(ques_open[i][\"Image_ID\"]).stem)\n",
        "      f.close() \n",
        "      continue\n",
        "    else:\n",
        "      f = open(Path(path + \"images_id\" + \".txt\"),\"a\")\n",
        "      f.write(Path(ques_open[i][\"Image_ID\"]).stem)\n",
        "      f.close() \n",
        "      continue\n",
        "\n",
        "def ques_txt(ques_open, path):\n",
        "  for i in ques_open:\n",
        "    if Path(path + \"ques\" + \".txt\").is_file():\n",
        "      f = open(Path(path + \"ques\" + \".txt\"),\"a\")\n",
        "      f.write(\"\\n\")\n",
        "      f.write(str(ques_open[i][\"Question\"]))\n",
        "      f.close() \n",
        "      continue\n",
        "    else:\n",
        "      f = open(Path(path + \"ques\" + \".txt\"),\"a\")\n",
        "      f.write(str(ques_open[i][\"Question\"]))\n",
        "      f.close() \n",
        "      continue\n",
        "\n",
        "def answer_txt(ques_open, path):\n",
        "  for i in ques_open:\n",
        "    if Path(path + \"answer\" + \".txt\").is_file():\n",
        "      f = open(Path(path + \"answer\" + \".txt\"),\"a\")\n",
        "      f.write(\"\\n\")\n",
        "      f.write(str(ques_open[i][\"Ground_Truth\"]))\n",
        "      f.close() \n",
        "      continue\n",
        "    else:\n",
        "      f = open(Path(path + \"answer\" + \".txt\"),\"a\")\n",
        "      f.write(str(ques_open[i][\"Ground_Truth\"]))\n",
        "      f.close() \n",
        "      continue\n",
        "\n",
        "def queslen_txt(ques_open, path):\n",
        "  for i in ques_open:\n",
        "    if Path(path + \"ques_len\" + \".txt\").is_file():\n",
        "      f = open(Path(path + \"ques_len\" + \".txt\"),\"a\")\n",
        "      line = re.findall(r\"[\\w']+|[.,!?;]\", ques_open[i][\"Question\"])\n",
        "      f.write(\"\\n\")\n",
        "      f.write(str(len(line)))\n",
        "      f.close() \n",
        "      continue\n",
        "    else:\n",
        "      f = open(Path(path + \"ques_len\" + \".txt\"),\"a\")\n",
        "      line = re.findall(r\"[\\w']+|[.,!?;]\", ques_open[i][\"Question\"])\n",
        "      f.write(str(len(line)))\n",
        "      f.close() \n",
        "      continue"
      ],
      "execution_count": null,
      "outputs": []
    },
    {
      "cell_type": "markdown",
      "metadata": {
        "id": "gWsaLTcsK5Au"
      },
      "source": [
        "# Create Files in the Specified Directory"
      ]
    },
    {
      "cell_type": "code",
      "metadata": {
        "id": "hWfqxqKtVCqv"
      },
      "source": [
        "train_open = json.load(open('/content/drive/Training Question.json', 'r'))\n",
        "train_path = \"/content/drive/train_txtfiles/\"\n",
        "\n",
        "ques_id_txt(train_open, train_path)\n",
        "images_id_txt(train_open, train_path)\n",
        "ques_txt(train_open, train_path)\n",
        "answer_txt(train_open, train_path)\n",
        "queslen_txt(train_open, train_path)"
      ],
      "execution_count": null,
      "outputs": []
    },
    {
      "cell_type": "code",
      "metadata": {
        "id": "kFJ1O9ilXgol"
      },
      "source": [
        "questions = open('/content/drive/train_txtfiles/ques.txt', 'rb').read().decode('utf-8').splitlines()\n",
        "questions_len = open('/content/drive/train_txtfiles/ques_len.txt', 'rb').read().decode('utf-8').splitlines()\n",
        "answers = open('/content/drive/train_txtfiles/answer.txt','rb').read().decode('utf-8').splitlines()\n",
        "image_id = open('/content/drive/train_txtfiles/images_id.txt','rb').read().decode('utf-8').splitlines()"
      ],
      "execution_count": null,
      "outputs": []
    },
    {
      "cell_type": "code",
      "metadata": {
        "colab": {
          "base_uri": "https://localhost:8080/",
          "height": 53
        },
        "id": "gBfxwCWRYpX2",
        "outputId": "d18b8313-b239-4168-a3cb-522ae7f0c015"
      },
      "source": [
        "#Sample output\n",
        "print(questions[0])\n",
        "image_id[0]"
      ],
      "execution_count": null,
      "outputs": [
        {
          "output_type": "stream",
          "text": [
            "What is the overall condition of the given image?\n"
          ],
          "name": "stdout"
        },
        {
          "output_type": "execute_result",
          "data": {
            "application/vnd.google.colaboratory.intrinsic+json": {
              "type": "string"
            },
            "text/plain": [
              "'10163'"
            ]
          },
          "metadata": {
            "tags": []
          },
          "execution_count": 8
        }
      ]
    }
  ]
}